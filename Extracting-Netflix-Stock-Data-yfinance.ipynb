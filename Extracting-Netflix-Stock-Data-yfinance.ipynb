{
 "cells": [
  {
   "cell_type": "code",
   "execution_count": null,
   "id": "14962bde",
   "metadata": {},
   "outputs": [],
   "source": [
    "!pip install yfinance==0.1.67\n",
    "!pip install pandas==1.3.3"
   ]
  },
  {
   "cell_type": "code",
   "execution_count": null,
   "id": "69011386",
   "metadata": {},
   "outputs": [],
   "source": [
    "import yfinance as yf\n",
    "import pandas as pd"
   ]
  },
  {
   "cell_type": "code",
   "execution_count": null,
   "id": "e0750424",
   "metadata": {},
   "outputs": [],
   "source": [
    "nflx = yf.Ticker(\"NFLX\")"
   ]
  },
  {
   "cell_type": "code",
   "execution_count": null,
   "id": "6dcbf05d",
   "metadata": {},
   "outputs": [],
   "source": [
    "# Using the attribute info to extract information about the stock as a Python dictionary\n",
    "nflx_info=nflx.info\n",
    "nflx_info"
   ]
  },
  {
   "cell_type": "code",
   "execution_count": null,
   "id": "1fc1d4ca",
   "metadata": {},
   "outputs": [],
   "source": [
    "# Getting the 'country' using the key country\n",
    "nflx_info['country']"
   ]
  },
  {
   "cell_type": "code",
   "execution_count": null,
   "id": "7b92bcff",
   "metadata": {},
   "outputs": [],
   "source": [
    "# Using the history() method we can get the share price of the stock over a certain period of time. \n",
    "# Using the period parameter we can set how far back from the present to get data. \n",
    "# The options for period are 1 day (1d), 5d, 1 month (1mo) , 3mo, 6mo, 1 year (1y), 2y, 5y, 10y, ytd, and max.\n",
    "nflx_share_price_data = nflx.history(period=\"max\")\n",
    "nflx_share_price_data.head()"
   ]
  },
  {
   "cell_type": "code",
   "execution_count": null,
   "id": "b0d20009",
   "metadata": {},
   "outputs": [],
   "source": [
    "# Resetting the index of the DataFrame with the reset_index function. \n",
    "# Setting the inplace parameter to True so the change takes place to the DataFrame itself.\n",
    "nflx_share_price_data.reset_index(inplace=True)"
   ]
  },
  {
   "cell_type": "code",
   "execution_count": null,
   "id": "16e8c13f",
   "metadata": {},
   "outputs": [],
   "source": [
    "# Plotting the Open price against the Date.\n",
    "nflx_share_price_data.plot(x=\"Date\", y=\"Open\")"
   ]
  },
  {
   "cell_type": "code",
   "execution_count": null,
   "id": "aabbf92a",
   "metadata": {},
   "outputs": [],
   "source": [
    "# Show dividends\n",
    "nflx.dividends"
   ]
  },
  {
   "cell_type": "code",
   "execution_count": null,
   "id": "04118b0b",
   "metadata": {},
   "outputs": [],
   "source": [
    "# Show financials\n",
    "nflx.financials"
   ]
  },
  {
   "cell_type": "code",
   "execution_count": null,
   "id": "9c581708",
   "metadata": {},
   "outputs": [],
   "source": [
    "nflx.quarterly_financials"
   ]
  },
  {
   "cell_type": "code",
   "execution_count": null,
   "id": "46984073",
   "metadata": {},
   "outputs": [],
   "source": [
    "# Show major holders\n",
    "nflx.major_holders"
   ]
  },
  {
   "cell_type": "code",
   "execution_count": null,
   "id": "68201f49",
   "metadata": {},
   "outputs": [],
   "source": [
    "# show balance sheet\n",
    "nflx.balance_sheet"
   ]
  },
  {
   "cell_type": "code",
   "execution_count": null,
   "id": "8c9d4493",
   "metadata": {},
   "outputs": [],
   "source": [
    "nflx.quarterly_balance_sheet"
   ]
  },
  {
   "cell_type": "code",
   "execution_count": null,
   "id": "f78781a6",
   "metadata": {},
   "outputs": [],
   "source": [
    "# Show cashflow\n",
    "nflx.cashflow"
   ]
  },
  {
   "cell_type": "code",
   "execution_count": null,
   "id": "3484ba34",
   "metadata": {},
   "outputs": [],
   "source": [
    "# Show earnings\n",
    "nflx.earnings"
   ]
  },
  {
   "cell_type": "code",
   "execution_count": null,
   "id": "c95d0162",
   "metadata": {},
   "outputs": [],
   "source": [
    "# Show sustainability\n",
    "nflx.sustainability"
   ]
  },
  {
   "cell_type": "code",
   "execution_count": null,
   "id": "5a7cca00",
   "metadata": {},
   "outputs": [],
   "source": [
    "# show analysts recommendations\n",
    "nflx.recommendations"
   ]
  },
  {
   "cell_type": "code",
   "execution_count": null,
   "id": "7a4a74e0",
   "metadata": {},
   "outputs": [],
   "source": [
    "# Show news\n",
    "nflx.news"
   ]
  },
  {
   "cell_type": "code",
   "execution_count": null,
   "id": "e8637392",
   "metadata": {},
   "outputs": [],
   "source": []
  }
 ],
 "metadata": {
  "kernelspec": {
   "display_name": "Python 3 (ipykernel)",
   "language": "python",
   "name": "python3"
  },
  "language_info": {
   "codemirror_mode": {
    "name": "ipython",
    "version": 3
   },
   "file_extension": ".py",
   "mimetype": "text/x-python",
   "name": "python",
   "nbconvert_exporter": "python",
   "pygments_lexer": "ipython3",
   "version": "3.9.7"
  }
 },
 "nbformat": 4,
 "nbformat_minor": 5
}
