{
 "cells": [
  {
   "cell_type": "code",
   "execution_count": null,
   "id": "9364f323",
   "metadata": {},
   "outputs": [],
   "source": [
    "import numpy as np \n",
    "import pandas as pd "
   ]
  },
  {
   "cell_type": "code",
   "execution_count": null,
   "id": "c97d8541",
   "metadata": {
    "scrolled": false
   },
   "outputs": [],
   "source": [
    "!pip3 install folium==0.5.0\n",
    "import folium\n",
    "import folium.plugins as plugins"
   ]
  },
  {
   "cell_type": "code",
   "execution_count": null,
   "id": "3bbded6b",
   "metadata": {},
   "outputs": [],
   "source": [
    "df_sbux = pd.read_csv(\"/Users/yuslitasyafia/Documents/Data Analysis Portfolio/Starbucks in Japan.csv\")"
   ]
  },
  {
   "cell_type": "code",
   "execution_count": null,
   "id": "2f74bd23",
   "metadata": {},
   "outputs": [],
   "source": [
    "df_sbux.head()"
   ]
  },
  {
   "cell_type": "code",
   "execution_count": null,
   "id": "dd8d8454",
   "metadata": {},
   "outputs": [],
   "source": [
    "df_sbux.shape"
   ]
  },
  {
   "cell_type": "code",
   "execution_count": null,
   "id": "8e4513a7",
   "metadata": {},
   "outputs": [],
   "source": [
    "# Japan latitude and longitude values\n",
    "jp_latitude = 36.2048\n",
    "jp_longitude = 138.2529"
   ]
  },
  {
   "cell_type": "code",
   "execution_count": null,
   "id": "8c3d3c5a",
   "metadata": {},
   "outputs": [],
   "source": [
    "# create map and display it\n",
    "jp_map = folium.Map(location=[jp_latitude, jp_longitude], zoom_start=5)\n",
    "\n",
    "# display the map of Japan\n",
    "jp_map"
   ]
  },
  {
   "cell_type": "code",
   "execution_count": null,
   "id": "97461a7d",
   "metadata": {},
   "outputs": [],
   "source": [
    "# instantiate a feature group for the Starbucks locations in the dataframe\n",
    "sbux_loc = folium.map.FeatureGroup()\n",
    "\n",
    "# loop through Starbucks location in Japan and add each to the feature group\n",
    "for lat, lng, in zip(df_sbux.Latitude, df_sbux.Longitude):\n",
    "    sbux_loc.add_child(\n",
    "        folium.features.CircleMarker(\n",
    "            [lat, lng],\n",
    "            radius=5, # define how big the circle markers to be\n",
    "            color='yellow',\n",
    "            fill=True,\n",
    "            fill_color='blue',\n",
    "            fill_opacity=0.6\n",
    "        )\n",
    "    )\n",
    "\n",
    "# add Starbucks locations to map\n",
    "jp_map.add_child(sbux_loc)"
   ]
  },
  {
   "cell_type": "code",
   "execution_count": null,
   "id": "e9715b26",
   "metadata": {},
   "outputs": [],
   "source": [
    "# add markers on the map\n",
    "\n",
    "# instantiate a feature group for the Starbucks locations in the dataframe\n",
    "sbux_loc = folium.map.FeatureGroup()\n",
    "\n",
    "# loop through Starbucks location in Japan and add each to the feature group\n",
    "for lat, lng, in zip(df_sbux.Latitude, df_sbux.Longitude):\n",
    "    sbux_loc.add_child(\n",
    "        folium.features.CircleMarker(\n",
    "            [lat, lng],\n",
    "            radius=5, # define how big the circle markers to be\n",
    "            color='yellow',\n",
    "            fill=True,\n",
    "            fill_color='blue',\n",
    "            fill_opacity=0.6\n",
    "        )\n",
    "    )\n",
    "\n",
    "# add pop-up text to each marker on the map\n",
    "jp_latitudes = list(df_sbux.Latitude)\n",
    "jp_longitudes = list(df_sbux.Longitude)\n",
    "labels = list(df_sbux.City)\n",
    "\n",
    "for lat, lng, label in zip(jp_latitudes, jp_longitudes, labels):\n",
    "    folium.Marker([lat, lng], popup=label).add_to(jp_map)    \n",
    "    \n",
    "# add Starbucks locations to map\n",
    "jp_map.add_child(sbux_loc)"
   ]
  },
  {
   "cell_type": "code",
   "execution_count": null,
   "id": "54ad9448",
   "metadata": {},
   "outputs": [],
   "source": [
    "# let's start again with a clean copy of the map of Japan\n",
    "jp_map = folium.Map(location = [jp_latitude, jp_longitude], zoom_start = 6)\n",
    "\n",
    "# instantiate a mark cluster object for the incidents in the dataframe\n",
    "sbux_loc = plugins.MarkerCluster().add_to(jp_map)\n",
    "\n",
    "# loop through the dataframe and add each data point to the mark cluster\n",
    "for lat, lng, label, in zip(df_sbux.Latitude, df_sbux.Longitude, df_sbux.City):\n",
    "    folium.Marker(\n",
    "        location=[lat, lng],\n",
    "        icon=None,\n",
    "        popup=label,\n",
    "    ).add_to(sbux_loc)\n",
    "\n",
    "# display map\n",
    "jp_map"
   ]
  }
 ],
 "metadata": {
  "kernelspec": {
   "display_name": "Python 3 (ipykernel)",
   "language": "python",
   "name": "python3"
  },
  "language_info": {
   "codemirror_mode": {
    "name": "ipython",
    "version": 3
   },
   "file_extension": ".py",
   "mimetype": "text/x-python",
   "name": "python",
   "nbconvert_exporter": "python",
   "pygments_lexer": "ipython3",
   "version": "3.9.7"
  }
 },
 "nbformat": 4,
 "nbformat_minor": 5
}
